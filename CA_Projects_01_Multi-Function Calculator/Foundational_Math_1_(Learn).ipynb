{
  "nbformat": 4,
  "nbformat_minor": 0,
  "metadata": {
    "colab": {
      "provenance": [],
      "collapsed_sections": [
        "szp5flp1fA8-",
        "jVXoY1mmfBjG"
      ]
    },
    "kernelspec": {
      "name": "python3",
      "display_name": "Python 3"
    },
    "language_info": {
      "name": "python"
    }
  },
  "cells": [
    {
      "cell_type": "markdown",
      "metadata": {
        "id": "EsfO5Q92tL-6"
      },
      "source": [
        "[![freeCodeCamp](https://cdn.freecodecamp.org/testable-projects-fcc/images/fcc_secondary.svg)](https://freecodecamp.org/)"
      ]
    },
    {
      "cell_type": "markdown",
      "metadata": {
        "id": "OikF86Tfxsrq"
      },
      "source": [
        "**Learn Foundational Math 1 by Building an Equation Solver**<br>\n",
        "Each of these steps will lead you toward the Certification Project. First you have to copy the files and set them up in your Google Drive."
      ]
    },
    {
      "cell_type": "markdown",
      "metadata": {
        "id": "szp5flp1fA8-"
      },
      "source": [
        "# &darr; **Do this first** &darr;\n",
        "Make sure you are logged into your Google account, and copy this notebook to your own account. Click \"File\" (at the top of this page) and then click \"Save a copy in Drive.\"  The file will be in a folder called \"Colab Notebooks\" in your Google Drive. "
      ]
    },
    {
      "cell_type": "markdown",
      "source": [
        "#Directions - Click to expand the next step<br>\n",
        "Click on the little <i>triangle</i> next to the word \"Step\" to do that step. Once you complete a step, click the triangle to expand the next step."
      ],
      "metadata": {
        "id": "jVXoY1mmfBjG"
      }
    },
    {
      "cell_type": "markdown",
      "source": [
        "# Step 0 - Acquire the testing library"
      ],
      "metadata": {
        "id": "FnqxVtNYIA8D"
      }
    },
    {
      "cell_type": "markdown",
      "source": [
        "Please run this code to get the library file from FreeCodeCamp. Each step will use this library to test your code. You do not need to edit anything; just run this code cell and wait a few seconds until it tells you to go on to the next step."
      ],
      "metadata": {
        "id": "jGDR7mBeh-ov"
      }
    },
    {
      "cell_type": "code",
      "source": [
        "# You may need to run this cell at the beginning of each new session\n",
        "\n",
        "!pip install requests\n",
        "\n",
        "# This will just take a few seconds\n",
        "\n",
        "import requests\n",
        "\n",
        "# Get the library from GitHub\n",
        "url = 'https://raw.githubusercontent.com/freeCodeCamp/cdn/main/build/math-cert-tests/math-code-test-a.py'\n",
        "r = requests.get(url)\n",
        "\n",
        "# Save the library in a local working directory \n",
        "with open('math_code_test_a.py', 'w') as f:\n",
        "    f.write(r.text)\n",
        "\n",
        "# Now you can import the library\n",
        "import math_code_test_a as test\n",
        "\n",
        "# This will tell you if the code works\n",
        "test.step19()"
      ],
      "metadata": {
        "id": "V88D7Zrei2ym",
        "colab": {
          "base_uri": "https://localhost:8080/"
        },
        "outputId": "bc90c252-a912-4a64-8702-ae709fb7c1cf"
      },
      "execution_count": 1,
      "outputs": [
        {
          "output_type": "stream",
          "name": "stdout",
          "text": [
            "Looking in indexes: https://pypi.org/simple, https://us-python.pkg.dev/colab-wheels/public/simple/\n",
            "Requirement already satisfied: requests in /usr/local/lib/python3.9/dist-packages (2.27.1)\n",
            "Requirement already satisfied: charset-normalizer~=2.0.0 in /usr/local/lib/python3.9/dist-packages (from requests) (2.0.12)\n",
            "Requirement already satisfied: idna<4,>=2.5 in /usr/local/lib/python3.9/dist-packages (from requests) (3.4)\n",
            "Requirement already satisfied: urllib3<1.27,>=1.21.1 in /usr/local/lib/python3.9/dist-packages (from requests) (1.26.15)\n",
            "Requirement already satisfied: certifi>=2017.4.17 in /usr/local/lib/python3.9/dist-packages (from requests) (2022.12.7)\n",
            "\n",
            " Test passed. You can go on to the next step.\n"
          ]
        }
      ]
    },
    {
      "cell_type": "markdown",
      "metadata": {
        "id": "EjxsoAEij2z5"
      },
      "source": [
        "# Step 1 - Add"
      ]
    },
    {
      "cell_type": "markdown",
      "metadata": {
        "id": "tYdScbUgkif-"
      },
      "source": [
        "To help you get familiar with Colab notebooks, you will start with the basics. Python uses `+`, `-`, `*`, and `/` for the four math operations: <i>add</i>, <i>subtract</i>, <i>multiply</i>, and <i>divide</i>. When you add two numbers, the result is the <i>sum</i>. Use addition within the `print` statement to get the sum of `a` and `b`. To run the code, you can hit \"shift\" and \"enter\" or you can click the run button (the triangle inside a circle)."
      ]
    },
    {
      "cell_type": "code",
      "metadata": {
        "id": "muuUL56MknVm",
        "colab": {
          "base_uri": "https://localhost:8080/"
        },
        "outputId": "175435fb-bea2-4055-ebdc-319fa8577202"
      },
      "source": [
        "a=1\n",
        "b=2\n",
        "\n",
        "# Change the next line to print the sum of a and b\n",
        "print(a+b)\n",
        "\n",
        "\n",
        "# Only change code above this line\n",
        "import math_code_test_a as test\n",
        "test.step01(In[-1].split('# Only change code above this line')[0])"
      ],
      "execution_count": null,
      "outputs": [
        {
          "output_type": "stream",
          "name": "stdout",
          "text": [
            "3\n",
            " \n",
            "Code test passed\n",
            "Go on to the next step\n"
          ]
        }
      ]
    },
    {
      "cell_type": "markdown",
      "metadata": {
        "id": "yAR4qoEcj7tv"
      },
      "source": [
        "# Step 2 - Subtract"
      ]
    },
    {
      "cell_type": "markdown",
      "metadata": {
        "id": "kxpYn-rfjomx"
      },
      "source": [
        "When you subtract two numbers, the result is the <i>difference</i>. Use subtraction in the print statement to get the difference between `c` and `d`. Remember to use \"shift\" and \"enter\" to run the code.\n"
      ]
    },
    {
      "cell_type": "code",
      "metadata": {
        "id": "cLscGSGcjtPM",
        "colab": {
          "base_uri": "https://localhost:8080/"
        },
        "outputId": "62515cdc-cb21-46de-f001-f4f6016bfdee"
      },
      "source": [
        "c = 7\n",
        "d = 3\n",
        "\n",
        "# Change the next line to print the positive difference between c and d\n",
        "print(c-d)\n",
        "\n",
        "\n",
        "# Only change code above this line\n",
        "import math_code_test_a as test\n",
        "test.step02(In[-1].split('# Only change code above this line')[0])"
      ],
      "execution_count": null,
      "outputs": [
        {
          "output_type": "stream",
          "name": "stdout",
          "text": [
            "4\n",
            " \n",
            "Code test passed\n",
            "Go on to the next step\n"
          ]
        }
      ]
    },
    {
      "cell_type": "markdown",
      "metadata": {
        "id": "9n3Rf_u4kVRc"
      },
      "source": [
        "# Step 3 - Multiply"
      ]
    },
    {
      "cell_type": "markdown",
      "metadata": {
        "id": "upss2rbrkNE3"
      },
      "source": [
        "When you multiply numbers, the result is the <i>product</i>. Use multiplication within the print statement to get the product of `e` and `f`:\n"
      ]
    },
    {
      "cell_type": "code",
      "metadata": {
        "id": "riH3m4YekQNk",
        "colab": {
          "base_uri": "https://localhost:8080/"
        },
        "outputId": "0c636819-4a99-43bf-ccf7-d54d315689b1"
      },
      "source": [
        "e = 2\n",
        "f = 4\n",
        "\n",
        "# Change the next line to print the product of e and f\n",
        "print(e*f)\n",
        "\n",
        "\n",
        "# Only change code above this line\n",
        "import math_code_test_a as test\n",
        "test.step03(In[-1].split('# Only change code above this line')[0])"
      ],
      "execution_count": null,
      "outputs": [
        {
          "output_type": "stream",
          "name": "stdout",
          "text": [
            "8\n",
            " \n",
            "Code test passed\n",
            "Go on to the next step\n"
          ]
        }
      ]
    },
    {
      "cell_type": "markdown",
      "metadata": {
        "id": "33FosVOV1NBu"
      },
      "source": [
        "# Step 4 - Divide\n"
      ]
    },
    {
      "cell_type": "markdown",
      "metadata": {
        "id": "odHJk50S1V05"
      },
      "source": [
        "When you divide two numbers, the result is the <i>quotient</i>. Use division within the print statement to get the quotient of `g` and `h`:"
      ]
    },
    {
      "cell_type": "code",
      "metadata": {
        "id": "5YWS8tuA1UMc",
        "colab": {
          "base_uri": "https://localhost:8080/"
        },
        "outputId": "93378a07-227c-43d1-c56b-3ed0c4a2b34b"
      },
      "source": [
        "g = 8\n",
        "h = 4\n",
        "\n",
        "# Change the next line\n",
        "print(g/h)\n",
        "\n",
        "\n",
        "# Only change code above this line\n",
        "import math_code_test_a as test\n",
        "test.step04(In[-1].split('# Only change code above this line')[0])"
      ],
      "execution_count": null,
      "outputs": [
        {
          "output_type": "stream",
          "name": "stdout",
          "text": [
            "2.0\n",
            " \n",
            "Code test passed\n",
            "Go on to the next step\n"
          ]
        }
      ]
    },
    {
      "cell_type": "markdown",
      "metadata": {
        "id": "rujSYyXZ3AOY"
      },
      "source": [
        "# Step 5 - Cast Input"
      ]
    },
    {
      "cell_type": "markdown",
      "metadata": {
        "id": "ttrSrlGh3CK8"
      },
      "source": [
        "User input comes in as a <i>string</i>, so you need to cast it as an <i>integer</i> or a <i>float</i> before doing any math. The code below asks for input and uses `int()` to cast it as an integer. Follow the model and cast the second variable as an integer. Then run the code an test it. (Remember to hit \"enter\" after you type each integer in the box.)\n"
      ]
    },
    {
      "cell_type": "code",
      "metadata": {
        "id": "fWYQrvOP3Cif",
        "colab": {
          "base_uri": "https://localhost:8080/"
        },
        "outputId": "dc9abc7e-7161-4f1e-cd23-59e5da304024"
      },
      "source": [
        "strA = input('Enter a positive integer: ')\n",
        "intA = int(strA)\n",
        "\n",
        "strB = input('Enter another positive integer: ')\n",
        "\n",
        "# Change the next line but keep the variable name:\n",
        "intB = int(strB)\n",
        "\n",
        "\n",
        "print(intA+intB)\n",
        "\n",
        "\n",
        "# Only change code above this line\n",
        "import math_code_test_a as test\n",
        "test.step05(In[-1].split('# Only change code above this line')[0])"
      ],
      "execution_count": null,
      "outputs": [
        {
          "output_type": "stream",
          "name": "stdout",
          "text": [
            "Enter a positive integer: 3\n",
            "Enter another positive integer: 4\n",
            "7\n",
            " \n",
            "Code test passed\n",
            "Go on to the next step\n"
          ]
        }
      ]
    },
    {
      "cell_type": "markdown",
      "source": [
        "#Step 6 - Input and cast on the same line"
      ],
      "metadata": {
        "id": "_NVz--_vqAxA"
      }
    },
    {
      "cell_type": "markdown",
      "source": [
        "You can prompt for input and cast that input on the same line. Notice the nested functions in the first line of code. Follow that model to prompt for input and cast that input as an integer on the same line."
      ],
      "metadata": {
        "id": "M7tIwnUdqUBp"
      }
    },
    {
      "cell_type": "code",
      "source": [
        "intA = int(input('Enter an integer: '))\n",
        "\n",
        "# Change the next line but keep the variable name:\n",
        "intB = int(input('Enter an integer: '))\n",
        "\n",
        "\n",
        "print(intA+intB)\n",
        "\n",
        "\n",
        "# Only change code above this line\n",
        "import math_code_test_a as test\n",
        "test.step06(In[-1].split('# Only change code above this line')[0])"
      ],
      "metadata": {
        "id": "I9a4sf1aqYZd",
        "colab": {
          "base_uri": "https://localhost:8080/"
        },
        "outputId": "a6ab25ea-7b14-435e-d3e8-361d4a1f78a0"
      },
      "execution_count": null,
      "outputs": [
        {
          "output_type": "stream",
          "name": "stdout",
          "text": [
            "Enter an integer: 2\n",
            "Enter an integer: -7\n",
            "-5\n",
            " \n",
            "Code test passed\n",
            "Go on to the next step\n"
          ]
        }
      ]
    },
    {
      "cell_type": "markdown",
      "source": [
        "#Step 7 - Float numbers"
      ],
      "metadata": {
        "id": "-lFO35p7l3cL"
      }
    },
    {
      "cell_type": "markdown",
      "source": [
        "A <i>float</i> number allows decimal places. When prompting for a number as input, casting that as a <i>float</i> is usually the best choice. Follow the model below to prompt for input and cast that input as a <i>float</i> on the same line."
      ],
      "metadata": {
        "id": "Qb0X7hCIl5yO"
      }
    },
    {
      "cell_type": "code",
      "source": [
        "a = float(input('Enter a number: '))\n",
        "\n",
        "# Change the next line but keep the variable name:\n",
        "b = float(input('Enter a number: '))\n",
        "\n",
        "\n",
        "print(a/b)\n",
        "\n",
        "\n",
        "# Only change code above this line\n",
        "import math_code_test_a as test\n",
        "test.step07(In[-1].split('# Only change code above this line')[0])"
      ],
      "metadata": {
        "id": "tKFaQlQ4l8ti",
        "colab": {
          "base_uri": "https://localhost:8080/"
        },
        "outputId": "9337257d-71fa-45f7-b45e-806790b65ab2"
      },
      "execution_count": null,
      "outputs": [
        {
          "output_type": "stream",
          "name": "stdout",
          "text": [
            "Enter a number: 4\n",
            "Enter a number: 7.6\n",
            "0.5263157894736842\n",
            " \n",
            "Code test passed\n",
            "Go on to the next step\n"
          ]
        }
      ]
    },
    {
      "cell_type": "markdown",
      "metadata": {
        "id": "6PeVH4Gx3PE3"
      },
      "source": [
        "# Step 8 - Order of Operations"
      ]
    },
    {
      "cell_type": "markdown",
      "metadata": {
        "id": "tComwmxt3UuP"
      },
      "source": [
        "You may have heard of the <b>order of operations</b> and the acronym <b>PEMDAS</b>, which reminds you of the correct order. This means that you do what is in <b>Parentheses</b> first, then simplify <b>Exponents</b>. You then do all of the <b>Multiplication</b> and <b>Division</b> together, as long as you work from left to right and simplify them in order. The same is true of <b>Addition</b> and <b>Subtraction</b>: work from left to right and simplify the one the comes up next. Python knows the order of operations. In the following code, Python will calculate the actual_answer correctly. Notice the use of `**` to indicate an exponent. Do the arithmetic in your head (no writing code) and change the `your_answer` variable, then run the code to see if your_answer matches the actual_answer."
      ]
    },
    {
      "cell_type": "code",
      "metadata": {
        "id": "d-3CdCL53VHA",
        "colab": {
          "base_uri": "https://localhost:8080/"
        },
        "outputId": "e9939f72-9381-4007-dd57-2150db7f3513"
      },
      "source": [
        "actual_answer = (1+4*2-14/2)**3\n",
        "\n",
        "# Put your answer on the following line:\n",
        "your_answer = 8\n",
        "\n",
        "print('Actual answer is ', actual_answer)\n",
        "print('Your answer is ', your_answer)\n",
        "\n",
        "\n",
        "# Only change code above this line\n",
        "import math_code_test_a as test\n",
        "test.step08(your_answer)"
      ],
      "execution_count": null,
      "outputs": [
        {
          "output_type": "stream",
          "name": "stdout",
          "text": [
            "Actual answer is  8.0\n",
            "Your answer is  8\n",
            " \n",
            "Code test passed\n",
            "Go on to the next step\n"
          ]
        }
      ]
    },
    {
      "cell_type": "markdown",
      "metadata": {
        "id": "D5Z8_9gN39TD"
      },
      "source": [
        "# Step 9 - Remainder and Modulus"
      ]
    },
    {
      "cell_type": "markdown",
      "metadata": {
        "id": "IBEwjqML39TH"
      },
      "source": [
        "A <i>remainder</i> is what is left over when you try to divide two numbers and it doesn’t divide evenly. The remainder of 10 / 4 is 2 because 4 goes into 10 two whole times, with 2 left over. The <i>modulus</i> (`%`) operator will output the remainder, so `10 % 4` will return 2. Use the modulus operator to find the remainder of a divided by b:"
      ]
    },
    {
      "cell_type": "code",
      "metadata": {
        "id": "EonWJtHS39TI",
        "colab": {
          "base_uri": "https://localhost:8080/"
        },
        "outputId": "22112dbf-0542-4808-a640-7515f668c4b0"
      },
      "source": [
        "a = 14\n",
        "b = 6\n",
        "\n",
        "# Change this line\n",
        "print(a%b)\n",
        "\n",
        "\n",
        "# Only change code above this line\n",
        "import math_code_test_a as test\n",
        "test.step09(In[-1].split('# Only change code above this line')[0])"
      ],
      "execution_count": null,
      "outputs": [
        {
          "output_type": "stream",
          "name": "stdout",
          "text": [
            "2\n",
            " \n",
            "Code test passed\n",
            "Go on to the next step\n"
          ]
        }
      ]
    },
    {
      "cell_type": "markdown",
      "metadata": {
        "id": "rPT2OymY4HdE"
      },
      "source": [
        "# Step 10 - Modulus and Factors"
      ]
    },
    {
      "cell_type": "markdown",
      "metadata": {
        "id": "Ct7JeTNm4HdF"
      },
      "source": [
        "Use an `if` statement with the modulus operator to find out if one number is a factor of another. For example, to see if 5 is a factor of 20, you can test `if 20 % 5 == 0`. If there's no remainder, the second number is a factor of the first. Remember that Python comparisons use `==` to test values. Remember that the `if` statement ends in a colon (`:`) and the resulting block is indented four spaces. Finish the code below to print \"true\" if `test_factor` is a factor of `number` and print \"false\" if it is not."
      ]
    },
    {
      "cell_type": "code",
      "metadata": {
        "id": "fRe04K3a4HdF",
        "colab": {
          "base_uri": "https://localhost:8080/"
        },
        "outputId": "afa95eea-ccf7-4a56-fd2f-ee1169c70b59"
      },
      "source": [
        "number = int(input('Enter an integer: '))\n",
        "test_factor = int(input('Enter an integer to see if it’s a factor: '))\n",
        "\n",
        "# Change the next line to test the factor:\n",
        "if number % test_factor == 0:\n",
        "    print('true')\n",
        "else:\n",
        "    print('false')\n",
        "\n",
        "\n",
        "# Only change code above this line\n",
        "import math_code_test_a as test\n",
        "test.step10(In[-1].split('# Only change code above this line')[0])"
      ],
      "execution_count": null,
      "outputs": [
        {
          "output_type": "stream",
          "name": "stdout",
          "text": [
            "Enter an integer: 6\n",
            "Enter an integer to see if it’s a factor: 7\n",
            "false\n",
            " \n",
            "Code test passed\n",
            "Go on to the next step\n"
          ]
        }
      ]
    },
    {
      "cell_type": "markdown",
      "metadata": {
        "id": "yED2Dox44JYj"
      },
      "source": [
        "# Step 11 - Finding Factors"
      ]
    },
    {
      "cell_type": "markdown",
      "metadata": {
        "id": "oMQEeGVI4JYk"
      },
      "source": [
        "Now you will find all of the factors of a number. This code has a loop with a variable, `test_factor`, that iterates through a defined range. Remember that the first line defining the loop ends in a colon (:) and each line in the loop requires a four-space indent. Change the `if` statement to find all the factors of `number`."
      ]
    },
    {
      "cell_type": "code",
      "metadata": {
        "id": "YQqur5gF4JYk",
        "colab": {
          "base_uri": "https://localhost:8080/"
        },
        "outputId": "865a5c86-6531-4fd0-cbfc-53b34302d813"
      },
      "source": [
        "number = int(input('Enter an integer: '))\n",
        "\n",
        "# Only change the if statement:\n",
        "for test_factor in range(1, number+1):\n",
        "    if number % test_factor == 0:\n",
        "        print(test_factor)\n",
        "        \n",
        "\n",
        "# Only change code above this line\n",
        "import math_code_test_a as test\n",
        "test.step11(In[-1].split('# Only change code above this line')[0])"
      ],
      "execution_count": null,
      "outputs": [
        {
          "output_type": "stream",
          "name": "stdout",
          "text": [
            "Enter an integer: 21\n",
            "1\n",
            "3\n",
            "7\n",
            "21\n",
            " \n",
            "Code test passed\n",
            "Go on to the next step\n"
          ]
        }
      ]
    },
    {
      "cell_type": "markdown",
      "metadata": {
        "id": "uQdfUUlw4Kfg"
      },
      "source": [
        "# Step 12 - Prime Numbers"
      ]
    },
    {
      "cell_type": "markdown",
      "metadata": {
        "id": "ngn_lXfv4Kfh"
      },
      "source": [
        "A <i>prime</i> number is a number whose only factors are 1 and itself. The number 5 is prime because its only factors are 1 and 5, but the 6 is not prime because it has 1, 2, 3, and 6 as factors. Any number that is not a prime is a <i>composite</i>. For each iteration in the loop, `test_number` will be a possible factor. Change the `if` statement so that the code prints \"composite\" if `number` is not prime."
      ]
    },
    {
      "cell_type": "code",
      "metadata": {
        "id": "9q6wtSTg4Kfh",
        "colab": {
          "base_uri": "https://localhost:8080/"
        },
        "outputId": "4e043480-4703-4390-f003-6f39c7f0e4bc"
      },
      "source": [
        "number = int(input(\"Enter a positive integer: \"))\n",
        "\n",
        "prime_or_comp = \"prime\"\n",
        "\n",
        "for test_number in range(2,number):\n",
        "    # Change the if statement to test one factor here:\n",
        "    if number % test_number == 0:\n",
        "        prime_or_comp = \"composite\" \n",
        "\n",
        "print(prime_or_comp)\n",
        "\n",
        "\n",
        "# Only change code above this line\n",
        "import math_code_test_a as test\n",
        "test.step12(In[-1].split('# Only change code above this line')[0])"
      ],
      "execution_count": 3,
      "outputs": [
        {
          "output_type": "stream",
          "name": "stdout",
          "text": [
            "Enter a positive integer: 23\n",
            "prime\n",
            " \n",
            "Code test passed\n",
            "Go on to the next step\n"
          ]
        }
      ]
    },
    {
      "cell_type": "markdown",
      "metadata": {
        "id": "XEf8vCUH4Lc_"
      },
      "source": [
        "# Step 13 - Reciprocals"
      ]
    },
    {
      "cell_type": "markdown",
      "metadata": {
        "id": "QrV7DGum4Lc_"
      },
      "source": [
        "A *reciprocal* is a number \"flipped.\" The reciprocal of $\\frac{2}{3}$ is $\\frac{3}{2}$ and the reciprocal of 5 is $\\frac{1}{5}$ because whole numbers have denominators of 1. You can multiply a number by its reciprocal to get 1, so 5 * $\\frac{1}{5}$ = 1 and $\\frac{2}{3}$ * $\\frac{3}{2}$ = 1. To get the reciprocal of a number, take 1 divided by that number. Trying to get the reciprocal of zero will lead to a \"divide by zero\" error. Use a print statement to output the reciprocal of `n` as a decimal. "
      ]
    },
    {
      "cell_type": "code",
      "metadata": {
        "id": "rwExvDuM4LdA",
        "colab": {
          "base_uri": "https://localhost:8080/"
        },
        "outputId": "764cb480-3a76-4635-eb3c-054d99eda933"
      },
      "source": [
        "n = float(input('Enter a number: '))\n",
        "\n",
        "# Write your code here\n",
        "print(1/n)\n",
        "\n",
        "\n",
        "# Only change code above this line\n",
        "import math_code_test_a as test\n",
        "test.step13(In[-1].split('# Only change code above this line')[0])"
      ],
      "execution_count": null,
      "outputs": [
        {
          "output_type": "stream",
          "name": "stdout",
          "text": [
            "Enter a number: 4\n",
            "0.25\n",
            " \n",
            "Code test passed\n",
            "Go on to the next step\n"
          ]
        }
      ]
    },
    {
      "cell_type": "markdown",
      "metadata": {
        "id": "EyV2Udzs4MVS"
      },
      "source": [
        "# Step 14 - Splitting input"
      ]
    },
    {
      "cell_type": "markdown",
      "metadata": {
        "id": "_GoKZbiS4MVS"
      },
      "source": [
        "The code below asks for two integers, separated by a comma, then splits the input at the comma. Notice the input remains a string, then the `split()` function creates an array with two elements. Finish the following code to cast the two variables `a` and `b` as `float` numbers, then divide the two numbers and print the result."
      ]
    },
    {
      "cell_type": "code",
      "metadata": {
        "id": "axr86XQ04MVS",
        "colab": {
          "base_uri": "https://localhost:8080/"
        },
        "outputId": "2c164834-2a6b-48d4-cf74-f1d338a5338c"
      },
      "source": [
        "nums = input('Enter two numbers, separated by a comma: ')\n",
        "sp = nums.split(\",\")\n",
        "\n",
        "# Use the next line as a model:\n",
        "a = float(sp[0])\n",
        "\n",
        "# Change the next line to cast the number as a float:\n",
        "b = float(sp[1])\n",
        "\n",
        "# Change the print statement:\n",
        "print(a/b)\n",
        "\n",
        "\n",
        "# Only change code above this line\n",
        "import math_code_test_a as test\n",
        "test.step14(In[-1].split('# Only change code above this line')[0])"
      ],
      "execution_count": null,
      "outputs": [
        {
          "output_type": "stream",
          "name": "stdout",
          "text": [
            "Enter two numbers, separated by a comma: 12, 4\n",
            "3.0\n",
            " \n",
            "Code test passed\n",
            "Go on to the next step\n"
          ]
        }
      ]
    },
    {
      "cell_type": "markdown",
      "metadata": {
        "id": "76XeyVVM4NrX"
      },
      "source": [
        "# Step 15 - Square Numbers"
      ]
    },
    {
      "cell_type": "markdown",
      "metadata": {
        "id": "cNCxDnCt4NrX"
      },
      "source": [
        "One factor multiplied by itself will produce a <i>square</i> number, so a number raised to an exponent of 2 is that number <i>squared</i> (like calculating the area of a square). Python uses `**` to indicate exponents. Complete the code to print the square of the input."
      ]
    },
    {
      "cell_type": "code",
      "metadata": {
        "id": "ZyikhBYd4NrX",
        "colab": {
          "base_uri": "https://localhost:8080/"
        },
        "outputId": "1e1a377c-1904-4b80-b18d-6b840ddc1279"
      },
      "source": [
        "n = float(input('Enter a number to square: '))\n",
        "\n",
        "# Change this line of code:\n",
        "print(n**2)\n",
        "\n",
        "\n",
        "# Only change code above this line\n",
        "import math_code_test_a as test\n",
        "test.step15(In[-1].split('# Only change code above this line')[0])"
      ],
      "execution_count": null,
      "outputs": [
        {
          "output_type": "stream",
          "name": "stdout",
          "text": [
            "Enter a number to square: 12.4\n",
            "153.76000000000002\n",
            " \n",
            "Code test passed\n",
            "Go on to the next step\n"
          ]
        }
      ]
    },
    {
      "cell_type": "markdown",
      "metadata": {
        "id": "B4WZJ0Iv4O1d"
      },
      "source": [
        "# Step 16 - Square Root Function"
      ]
    },
    {
      "cell_type": "markdown",
      "metadata": {
        "id": "R3RBO7tF4O1d"
      },
      "source": [
        "You can find the square root of a number with the `sqrt()` function. To use this function, you need to import the math library. This library enables you to use many functions, as you will see in later steps. To get the square root of x, you would write `math.sqrt(x)`. Complete the code to print the square root of a number."
      ]
    },
    {
      "cell_type": "code",
      "metadata": {
        "id": "MSkW_Md24O1d",
        "colab": {
          "base_uri": "https://localhost:8080/"
        },
        "outputId": "4315947a-1da7-4dba-dac4-bdc3ef0a58d9"
      },
      "source": [
        "import math\n",
        "\n",
        "n = float(input('Enter a number to find the square root: '))\n",
        "\n",
        "# Change the next line of code:\n",
        "print(math.sqrt(n))\n",
        "\n",
        "\n",
        "# Only change code above this line\n",
        "import math_code_test_a as test\n",
        "test.step16(In[-1].split('# Only change code above this line')[0])"
      ],
      "execution_count": null,
      "outputs": [
        {
          "output_type": "stream",
          "name": "stdout",
          "text": [
            "Enter a number to find the square root: 45\n",
            "6.708203932499369\n",
            " \n",
            "Code test passed\n",
            "Go on to the next step\n"
          ]
        }
      ]
    },
    {
      "cell_type": "markdown",
      "metadata": {
        "id": "1hru9M7J4P48"
      },
      "source": [
        "# Step 17 - Floor Function"
      ]
    },
    {
      "cell_type": "markdown",
      "metadata": {
        "id": "VG-12xT94P48"
      },
      "source": [
        "The`floor()` function drops any decimals and sometimes is called the <i>integer part</i> of a number. Complete the code to print the floor of a number. Notice you `import math` and use `math.floor(n)`  "
      ]
    },
    {
      "cell_type": "code",
      "metadata": {
        "id": "F-c0gsQL4P48",
        "colab": {
          "base_uri": "https://localhost:8080/"
        },
        "outputId": "ac3425f1-6090-4c15-d08f-5e424ad35677"
      },
      "source": [
        "import math\n",
        "\n",
        "n = float(input('Enter a number with decimal places: '))\n",
        "\n",
        "# Change the next line of code:\n",
        "print(math.floor(n))\n",
        "\n",
        "\n",
        "# Only change code above this line\n",
        "import math_code_test_a as test\n",
        "test.step17(In[-1].split('# Only change code above this line')[0])"
      ],
      "execution_count": null,
      "outputs": [
        {
          "output_type": "stream",
          "name": "stdout",
          "text": [
            "Enter a number with decimal places: 6.7\n",
            "6\n",
            " \n",
            "Code test passed\n",
            "Go on to the next step\n"
          ]
        }
      ]
    },
    {
      "cell_type": "markdown",
      "metadata": {
        "id": "cG_JMTeb4Q-E"
      },
      "source": [
        "# Step 18 - Finding Square Factors"
      ]
    },
    {
      "cell_type": "markdown",
      "metadata": {
        "id": "oN6isUiz4Q-E"
      },
      "source": [
        "This step will combine a few things you have already done. Remember that a square number is an integer that is the result of multiplying another integer by itself. Just as you created a loop to find factors of an integer, here you will find the greatest factor that is a perfect square. For example, 2 is a factor of 16, but 2 is not a square number, while 4 is a factor and it is a square number, but it is not the greatest square factor. The greatest square factor of 16 is 16. The greatest square factor of 32 is 16. Complete `if` statement in the loop to find the greatest square factor of a number. "
      ]
    },
    {
      "cell_type": "code",
      "metadata": {
        "id": "SRbIgfWr4Q-E",
        "colab": {
          "base_uri": "https://localhost:8080/"
        },
        "outputId": "3d0313d8-0488-42a6-e79e-a2dee9d2de22"
      },
      "source": [
        "import math\n",
        "\n",
        "n = int(input('Enter an integer to find the greatest square factor: '))\n",
        "\n",
        "max_factor = 1\n",
        "upper_limit = math.floor(math.sqrt(n)) + 1\n",
        "\n",
        "# Change one line in this loop:\n",
        "for maybe_factor in range(1,upper_limit):\n",
        "    if n % (maybe_factor**2) == 0:\n",
        "        max_factor = maybe_factor\n",
        "\n",
        "# Keep this print statement:\n",
        "print(max_factor**2)\n",
        "\n",
        "\n",
        "# Only change code above this line\n",
        "import math_code_test_a as test\n",
        "test.step18(In[-1].split('# Only change code above this line')[0])"
      ],
      "execution_count": null,
      "outputs": [
        {
          "output_type": "stream",
          "name": "stdout",
          "text": [
            "Enter an integer to find the greatest square factor: 16\n",
            "16\n",
            " \n",
            "Code test passed\n",
            "Go on to the next step\n"
          ]
        }
      ]
    },
    {
      "cell_type": "markdown",
      "metadata": {
        "id": "a6Kr7wKq4SBP"
      },
      "source": [
        "# Step 19 - Dividing out Factors "
      ]
    },
    {
      "cell_type": "markdown",
      "metadata": {
        "id": "dlB9GF164SBP"
      },
      "source": [
        "Building upon your code from the previous step, this code will divide out the greatest square factor of a number. You don't need to change anything; just run the code below a few times, inputting different numbers each time."
      ]
    },
    {
      "cell_type": "code",
      "metadata": {
        "id": "0KCr-ImL4SBQ",
        "colab": {
          "base_uri": "https://localhost:8080/"
        },
        "outputId": "fcf43ce6-f96f-427b-be99-9f55a7bfe02c"
      },
      "source": [
        "import math\n",
        "\n",
        "n = int(input('Enter an integer to factor: '))\n",
        "upper_limit = math.floor(math.sqrt(n)) + 1\n",
        "square_root = 1\n",
        "max_factor = 1\n",
        "other_factor = 1\n",
        "\n",
        "# Notice what the loop is doing here\n",
        "for maybe_factor in range(1, upper_limit):\n",
        "    # Check for square factors\n",
        "    if n % (maybe_factor**2) == 0:\n",
        "        # Find the greatest square factor\n",
        "        max_factor = maybe_factor**2\n",
        "\n",
        "# Divide out the greatest square factor\n",
        "other_factor = n/max_factor\n",
        "\n",
        "# Display the results \n",
        "print(\"\", n, \" = \", max_factor, \" * \", other_factor)\n",
        "\n",
        "\n",
        "# Only change code above this line\n",
        "import math_code_test_a as test\n",
        "test.step19()"
      ],
      "execution_count": null,
      "outputs": [
        {
          "output_type": "stream",
          "name": "stdout",
          "text": [
            "Enter an integer to factor: 24\n",
            " 24  =  4  *  6.0\n",
            "\n",
            " Test passed. You can go on to the next step.\n"
          ]
        }
      ]
    },
    {
      "cell_type": "markdown",
      "metadata": {
        "id": "IIb5MHzI4TAU"
      },
      "source": [
        "# Step 20 - Factoring Square Roots"
      ]
    },
    {
      "cell_type": "markdown",
      "metadata": {
        "id": "F9mLn2vR4TAU"
      },
      "source": [
        "The last four steps prepared you for this. To factor a square root, you want to divide out any perfect square factors. For example:<br>\n",
        " $\\sqrt{12}$ = $\\sqrt{4 * 3}$ = 2$\\sqrt{3}$<br>\n",
        "Because 4 is a square number, the square root of 4 is now outside the radical.\n",
        "You will import `sympy` and `symbols` to use the radical ($\\sqrt{x}$) in the output. Use the code from the previous step (without changing much). Your goal is to ask for a number and output the factored square root. The radical formatting (using sympy and symbols) is already done for you."
      ]
    },
    {
      "cell_type": "code",
      "metadata": {
        "id": "ucg7J-8m4TAU",
        "colab": {
          "base_uri": "https://localhost:8080/",
          "height": 125
        },
        "outputId": "0eec7650-eb8f-498c-da27-ad4b3c2a06fa"
      },
      "source": [
        "import math\n",
        "import sympy\n",
        "from sympy import symbols\n",
        "\n",
        "n = int(input('Without the radical, enter a square root to factor: '))\n",
        "\n",
        "# Use these variables\n",
        "upper_limit = math.floor(math.sqrt(n)) + 1\n",
        "max_factor = 1\n",
        "other_factor = 1\n",
        "square_root = 1\n",
        "\n",
        "# Notice what the loop is doing here\n",
        "for maybe_factor in range(1, upper_limit):\n",
        "    if n % (maybe_factor**2) == 0:\n",
        "        max_factor = maybe_factor**2\n",
        "\n",
        "# Divide out the greatest square factor\n",
        "other_factor = n/max_factor\n",
        "\n",
        "# Output - keep this:\n",
        "square_root = int(math.sqrt(max_factor))\n",
        "other_factor = int(other_factor)\n",
        "output = square_root*sympy.sqrt(other_factor)\n",
        "print(output)\n",
        "\n",
        "# Only change code above this line\n",
        "import math_code_test_a as test\n",
        "test.step20()\n",
        "output"
      ],
      "execution_count": null,
      "outputs": [
        {
          "output_type": "stream",
          "name": "stdout",
          "text": [
            "Without the radical, enter a square root to factor: 8\n",
            "2*sqrt(2)\n",
            "\n",
            " Test passed. This is this your factored square root:\n",
            "\n"
          ]
        },
        {
          "output_type": "execute_result",
          "data": {
            "text/plain": [
              "2*sqrt(2)"
            ],
            "text/latex": "$\\displaystyle 2 \\sqrt{2}$"
          },
          "metadata": {},
          "execution_count": 3
        }
      ]
    },
    {
      "cell_type": "markdown",
      "metadata": {
        "id": "4VnLdwgZ4WHz"
      },
      "source": [
        "# Step 21 - Rounding"
      ]
    },
    {
      "cell_type": "markdown",
      "metadata": {
        "id": "3fxJA-yI4WH0"
      },
      "source": [
        "If you only want a certain number of decimal places, use the `round()` function. This takes two arguments: the number to round and the number of decimal places, so `round(2.468, 2)` will return `2.47`. To round a large number instead of a decimal number, make the second argument negative, so `round(2345, -3)` will return `2000`. Finish the code below so that it prints the first number rounded to the nearest million (six zeros) and the second number rounded to 3 decimal places."
      ]
    },
    {
      "cell_type": "code",
      "metadata": {
        "id": "4n4mYI554WH0",
        "colab": {
          "base_uri": "https://localhost:8080/"
        },
        "outputId": "4d422889-ea75-4185-cbb9-b12d089b5656"
      },
      "source": [
        "a = 14588132\n",
        "b = 0.006538298336\n",
        "\n",
        "# Write your code here\n",
        "print(round(a, 6))\n",
        "print(round(b, 3))\n",
        "\n",
        "# Only change code above this line\n",
        "import math_code_test_a as test\n",
        "test.step21(In[-1].split('# Only change code above this line')[0])"
      ],
      "execution_count": null,
      "outputs": [
        {
          "output_type": "stream",
          "name": "stdout",
          "text": [
            "14588132\n",
            "0.007\n",
            " \n",
            "Your code should include 'print(round(a,-6)'\n"
          ]
        }
      ]
    },
    {
      "cell_type": "markdown",
      "source": [
        "#Step 22 - Fractions, Decimals, Percents"
      ],
      "metadata": {
        "id": "cVC_ENRHfIP4"
      }
    },
    {
      "cell_type": "markdown",
      "source": [
        "To convert a decimal number to a fraction, let $x$ = the number of decimal places. The basic fraction is the number (without the decimal point) over 10$^{x}$. Example: 0.2 = $\\frac{2}{10}$ and 0.34 = $\\frac{34}{100}$ and 0.567 = $\\frac{567}{1000}$. In some cases, you may be able to reduce that fraction. Because \"percent\" means \"out of 100\" the percent refers to the first two decimal places. Complete the code to ask for a decimal input, then print the fraction and the percent. Hint: The `exponent` variable gives you the number of decimal places."
      ],
      "metadata": {
        "id": "8cZnGQO4fWzS"
      }
    },
    {
      "cell_type": "code",
      "source": [
        "import math\n",
        "\n",
        "digits = input(\"Enter a decimal number to convert: \")\n",
        "exponent = int(len(digits))-1\n",
        "n = float(digits)\n",
        "\n",
        "# Change the values of these three variables\n",
        "numerator = int(n * 10**exponent)\n",
        "denominator = 10**exponent\n",
        "percent = n*100\n",
        "\n",
        "# Output - keep this\n",
        "print(\"The decimal is \", n)\n",
        "print(\"The fraction is \", numerator, \"/\", denominator)\n",
        "print(\"The percent is \", percent, \" %\")\n",
        "\n",
        "\n",
        "# Only change code above this line\n",
        "import math_code_test_a as test\n",
        "test.step22(n,numerator,denominator,percent,exponent)"
      ],
      "metadata": {
        "id": "HPyBoXwNfhWQ",
        "colab": {
          "base_uri": "https://localhost:8080/"
        },
        "outputId": "72da8330-a5bb-423b-df4a-31806fb52042"
      },
      "execution_count": null,
      "outputs": [
        {
          "output_type": "stream",
          "name": "stdout",
          "text": [
            "Enter a decimal number to convert: 3.5\n",
            "The decimal is  3.5\n",
            "The fraction is  350 / 100\n",
            "The percent is  350.0  %\n",
            " \n",
            "Code test passed\n",
            "Go on to the next step\n"
          ]
        }
      ]
    },
    {
      "cell_type": "markdown",
      "source": [
        "#Step 23 - Defining a Function"
      ],
      "metadata": {
        "id": "Llx2Kaau8Dsz"
      }
    },
    {
      "cell_type": "markdown",
      "source": [
        "To execute a block of code with one command, define a <i>function</i> with the `def` command and the name of the function. Notice everything in the function is indented 4 spaces. Run the following code to see an example. Then change the function name to `fun()` and also change the name where you call the function. Run the code again."
      ],
      "metadata": {
        "id": "PUjA2-X_8OER"
      }
    },
    {
      "cell_type": "code",
      "source": [
        "# Define a function\n",
        "def fun():\n",
        "    print(\"This is in the function\")\n",
        "\n",
        "# Other code not in the function\n",
        "print(\"This is outside the function\")\n",
        "\n",
        "# Call the function\n",
        "fun()\n",
        "\n",
        "print(\"Back outside the function\")\n",
        "\n",
        "# Only change code above this line\n",
        "import math_code_test_a as test\n",
        "test.step23(In[-1].split('# Only change code above this line')[0])"
      ],
      "metadata": {
        "id": "5xeG1__m8h1P",
        "colab": {
          "base_uri": "https://localhost:8080/"
        },
        "outputId": "86f29433-3858-4723-dfdd-d458b76e9450"
      },
      "execution_count": null,
      "outputs": [
        {
          "output_type": "stream",
          "name": "stdout",
          "text": [
            "This is outside the function\n",
            "This is in the function\n",
            "Back outside the function\n",
            " \n",
            "Code test passed\n",
            "Go on to the next step\n"
          ]
        }
      ]
    },
    {
      "cell_type": "markdown",
      "source": [
        "# Step 24 - Function with Input"
      ],
      "metadata": {
        "id": "tMa9hDVL85sl"
      }
    },
    {
      "cell_type": "markdown",
      "source": [
        "A <i>function</i> can take input (called an \"argument\") and do something with that input. Use `def` to define the function, and include a variable in the parentheses to represent the argument. Indent everything that is a part of the function. When calling the function, pass the argument to it in the parentheses. Run the following code to see this example. Then change the `input()` variable name to `nombre` and also change that variable name in the argument when you call the function. Run the code again."
      ],
      "metadata": {
        "id": "EHxRLGSz9JqT"
      }
    },
    {
      "cell_type": "code",
      "source": [
        "# Define a function\n",
        "def greeting(name):\n",
        "    print(\"Hello \", name)\n",
        "\n",
        "nombre = input(\"What is your name? \\n\")\n",
        "\n",
        "# Call the function\n",
        "greeting(nombre)\n",
        "\n",
        "# Only change code above this line\n",
        "import math_code_test_a as test\n",
        "test.step24(In[-1].split('# Only change code above this line')[0])"
      ],
      "metadata": {
        "id": "RDI_QfDQ9R_q",
        "colab": {
          "base_uri": "https://localhost:8080/"
        },
        "outputId": "9f63c67b-7004-4b9a-ff00-7d638b14b9ba"
      },
      "execution_count": null,
      "outputs": [
        {
          "output_type": "stream",
          "name": "stdout",
          "text": [
            "What is your name? \n",
            "Dave\n",
            "Hello  Dave\n",
            " \n",
            "Code test passed\n",
            "You can go on to the next step\n"
          ]
        }
      ]
    },
    {
      "cell_type": "markdown",
      "source": [
        "#Step 25 - Function with Two Inputs"
      ],
      "metadata": {
        "id": "d1WVETzF9-Dv"
      }
    },
    {
      "cell_type": "markdown",
      "source": [
        "To pass more than one argument to a function, separate the arguments with commas. Run the code to see the example, then add a third argument to the function and run it again. The `third` variable is already in the code. Change three lines of code to use that variable: (1) the argument when you call the function, (2) the argument when you define the function, (3) the `sum` line within in the function definition."
      ],
      "metadata": {
        "id": "VYhQLZsV-FSr"
      }
    },
    {
      "cell_type": "code",
      "source": [
        "# Define function\n",
        "def add(a,b,c):\n",
        "  # Use c for the third variable\n",
        "  sum = a+b+c\n",
        "  print(\"The sum is \", sum)\n",
        "\n",
        "first = float(input(\"Enter a number: \\n\"))\n",
        "second= float(input(\"Enter another number: \\n\"))\n",
        "third= float(input(\"Enter even another number: \\n\"))\n",
        "\n",
        "# Call the function\n",
        "add(first,second, third)\n",
        "\n",
        "# Only change code above this line\n",
        "import math_code_test_a as test\n",
        "test.step25(In[-1].split('# Only change code above this line')[0])"
      ],
      "metadata": {
        "id": "0OGuCCOz_VsV",
        "colab": {
          "base_uri": "https://localhost:8080/"
        },
        "outputId": "1e350c49-813a-464e-9272-40b07f11d1b9"
      },
      "execution_count": null,
      "outputs": [
        {
          "output_type": "stream",
          "name": "stdout",
          "text": [
            "Enter a number: \n",
            "2\n",
            "Enter another number: \n",
            "6\n",
            "Enter even another number: \n",
            "9\n",
            "The sum is  17.0\n",
            " \n",
            "Code test passed\n",
            "You can go on to the next step\n"
          ]
        }
      ]
    },
    {
      "cell_type": "markdown",
      "source": [
        "#Step 26 - Function with Return Value"
      ],
      "metadata": {
        "id": "xmlkOkEc-iqL"
      }
    },
    {
      "cell_type": "markdown",
      "source": [
        "Instead of including a `print()` statement within the function, the function can `return` a value right where you call it. To make the function return a value, use the `return` statement. Run the following code to see an example, then change the `return` statement to multiply by 3 instead of 2 and run the code again."
      ],
      "metadata": {
        "id": "KdLW1Msd-pPg"
      }
    },
    {
      "cell_type": "code",
      "source": [
        "# define the function\n",
        "def multiplied(number):\n",
        "    return number*3\n",
        "\n",
        "a = float(input(\"Enter a number: \\n\"))\n",
        "print(\"Your number multiplied = \", multiplied(a))\n",
        "\n",
        "\n",
        "# Only change code above this line\n",
        "import math_code_test_a as test\n",
        "test.step26(In[-1].split('# Only change code above this line')[0])"
      ],
      "metadata": {
        "id": "4JELM_kc-zMP",
        "colab": {
          "base_uri": "https://localhost:8080/"
        },
        "outputId": "e2207c5c-8b1d-444b-bcbc-214686125925"
      },
      "execution_count": null,
      "outputs": [
        {
          "output_type": "stream",
          "name": "stdout",
          "text": [
            "Enter a number: \n",
            "12\n",
            "Your number multiplied =  36.0\n",
            " \n",
            "Code test passed\n",
            "You can go on to the next step\n"
          ]
        }
      ]
    },
    {
      "cell_type": "markdown",
      "metadata": {
        "id": "98oHO4mh4X3e"
      },
      "source": [
        "# Step 27 - Solving for x"
      ]
    },
    {
      "cell_type": "markdown",
      "metadata": {
        "id": "jYh9MRv24X3e"
      },
      "source": [
        "In Algebra, `X` often refers to the unknown number in an equation. To find the value of `x` we use algebra rules to get to `x = ` [some number]. SymPy is a Python library to work with symbolic math. The following code works to solve an equation set equal to zero. Run the code and remember to use Python syntax to enter an equation (with \"x\" as the variable) and see the solution."
      ]
    },
    {
      "cell_type": "code",
      "metadata": {
        "id": "H4HFJdc34X3e",
        "colab": {
          "base_uri": "https://localhost:8080/"
        },
        "outputId": "f217e02f-52af-41b1-a632-aa9c8afcf0f6"
      },
      "source": [
        "import sympy\n",
        "from sympy import symbols\n",
        "from sympy.solvers import solve\n",
        "\n",
        "x = symbols('x')\n",
        "\n",
        "eq = input('Enter an equation to solve for x: 0 = ')\n",
        "print(len(solve(eq,x)))\n",
        "print(\"x = \", solve(eq,x)[0])\n",
        "\n",
        "\n",
        "# Only change code above this line\n",
        "import math_code_test_a as test\n",
        "test.step27(In[-1].split('# Only change code above this line')[0])\n"
      ],
      "execution_count": null,
      "outputs": [
        {
          "output_type": "stream",
          "name": "stdout",
          "text": [
            "Enter an equation to solve for x: 0 = x**3 - x*2 + x**2\n",
            "3\n",
            "x =  -2\n",
            "If you didn't get a syntax error, you are ready for the project\n"
          ]
        }
      ]
    },
    {
      "cell_type": "markdown",
      "source": [
        "# Step 28 - Make your own Functions"
      ],
      "metadata": {
        "id": "xtI0kyR3RpFw"
      }
    },
    {
      "cell_type": "markdown",
      "source": [
        "Building upon what you did in previous steps, define a different function for each of the following:<br>\n",
        "<ul>\n",
        "  <li>Add, subtract, multiply, divide</li>\n",
        "  <li>Detect prime numbers</li>\n",
        "  <li>Generate prime factors of a number</li>\n",
        "  <li>Simplify square roots</li>\n",
        "  <li>Solve for a variable</li>\n",
        "</ul>\n",
        "Each function should prompt the user with a question, take input, and output the answer."
      ],
      "metadata": {
        "id": "j9jLJyL-Q5T9"
      }
    },
    {
      "cell_type": "code",
      "source": [
        "# Write your code here\n",
        "\n",
        "\n",
        "# Add, subtract, multiply, divide\n",
        "def add(a, b):\n",
        "  print(\"The sum is: \", a+b)\n",
        "\n",
        "add_first = float(input(\"Enter a number: \\n\"))\n",
        "add_second= float(input(\"Enter another number to add: \\n\"))\n",
        "\n",
        "add(add_first, add_second)\n",
        "\n",
        "def substract(a, b):\n",
        "  print(\"The substract is: \", a-b)\n",
        "\n",
        "substract_first = float(input(\"Enter a number: \\n\"))\n",
        "substract_second= float(input(\"Enter another number to substract: \\n\"))\n",
        "\n",
        "substract(substract_first, substract_second)\n",
        "\n",
        "def multiply(a, b):\n",
        "  print(\"The multiplication is: \", a*b)\n",
        "\n",
        "multiply_first = float(input(\"Enter a number: \\n\"))\n",
        "multiply_second= float(input(\"Enter another number to multiply: \\n\"))\n",
        "\n",
        "multiply(multiply_first, multiply_second)\n",
        "\n",
        "def divide(a, b):\n",
        "  print(\"The division is: \", a/b)\n",
        "\n",
        "divide_first = float(input(\"Enter a number to divide: \\n\"))\n",
        "divide_second= float(input(\"Enter another number, but not zero: \\n\"))\n",
        "\n",
        "divide(divide_first, divide_second)\n",
        "\n",
        "\n",
        "# Detect prime numbers\n",
        "def detect_prime_number(number):\n",
        "  prime_or_comp = \"prime\"\n",
        "  for test_number in range(2,number):\n",
        "    # Change the if statement to test one factor here:\n",
        "    if number % test_number == 0:\n",
        "      prime_or_comp = \"composite\" \n",
        "  print(prime_or_comp)\n",
        "\n",
        "detect_number = int(input(\"Enter a positive integer to check if it is prime: \"))\n",
        "\n",
        "detect_prime_number(detect_number)\n",
        "\n",
        "\n",
        "# Generate prime factors of a number\n",
        "def generate_prime_factors(number):\n",
        "  for test_factor in range(1, number+1):\n",
        "    if number % test_factor == 0:\n",
        "        print(test_factor)\n",
        "  \n",
        "factor_number = int(input('Enter an integer to factor: '))\n",
        "\n",
        "generate_prime_factors(factor_number)\n",
        "\n",
        "\n",
        "# Simplify square roots\n",
        "import math\n",
        "import sympy\n",
        "from sympy import symbols\n",
        "\n",
        "def simplify_square_root(number):\n",
        "  upper_limit = math.floor(math.sqrt(number)) + 1\n",
        "  max_factor = 1\n",
        "  other_factor = 1\n",
        "  square_root = 1\n",
        "  for maybe_factor in range(1, upper_limit):\n",
        "    if number % (maybe_factor**2) == 0:\n",
        "        max_factor = maybe_factor**2\n",
        "  other_factor = number / max_factor\n",
        "  \n",
        "  square_root = int(math.sqrt(max_factor))\n",
        "  other_factor = int(other_factor)\n",
        "  output = square_root*sympy.sqrt(other_factor)\n",
        "  print(output)\n",
        "\n",
        "simplify_number = int(input('Without the radical, enter a square root to factor: '))\n",
        "\n",
        "simplify_square_root(simplify_number)\n",
        "\n",
        "\n",
        "# Solve for a variable\n",
        "import sympy\n",
        "from sympy import symbols\n",
        "from sympy.solvers import solve\n",
        "\n",
        "def solve_x_equation(equation):\n",
        "  x = symbols('x')\n",
        "  print(len(solve(equation,x)))\n",
        "  print(\"x = \", solve(equation,x)[0])\n",
        "\n",
        "solve_expression = input('Enter an equation to solve for x: 0 = ')\n",
        "\n",
        "solve_x_equation(solve_expression)\n",
        "\n",
        "# This step does not have test"
      ],
      "metadata": {
        "id": "wmtRDDigPrXZ",
        "colab": {
          "base_uri": "https://localhost:8080/"
        },
        "outputId": "a9954201-b373-44a2-9e9d-639aea8e9039"
      },
      "execution_count": 4,
      "outputs": [
        {
          "output_type": "stream",
          "name": "stdout",
          "text": [
            "Enter a number: \n",
            "2\n",
            "Enter another number to add: \n",
            "3\n",
            "The sum is:  5.0\n",
            "Enter a number: \n",
            "5\n",
            "Enter another number to substract: \n",
            "2\n",
            "The substract is:  3.0\n",
            "Enter a number: \n",
            "3\n",
            "Enter another number to multiply: \n",
            "4\n",
            "The multiplication is:  12.0\n",
            "Enter a number to divide: \n",
            "12\n",
            "Enter another number, but not zero: \n",
            "5\n",
            "The division is:  2.4\n",
            "Enter a positive integer to check if it is prime: 5\n",
            "prime\n",
            "Enter an integer to factor: 24\n",
            "1\n",
            "2\n",
            "3\n",
            "4\n",
            "6\n",
            "8\n",
            "12\n",
            "24\n",
            "Without the radical, enter a square root to factor: 16\n",
            "4\n",
            "Enter an equation to solve for x: 0 = x**2 + 1\n",
            "2\n",
            "x =  -I\n"
          ]
        }
      ]
    },
    {
      "cell_type": "markdown",
      "source": [
        "# Step 29 - Create a Menu"
      ],
      "metadata": {
        "id": "lgqRbYTWTIst"
      }
    },
    {
      "cell_type": "markdown",
      "source": [
        "Use print statements to create a menu that displays a numbered list of options. Then prompt for user input to choose an option. Use an `if` statement to print a different message for each option in the menu."
      ],
      "metadata": {
        "id": "12Ki56SNR4te"
      }
    },
    {
      "cell_type": "code",
      "source": [
        "# Write your code here\n",
        "\n",
        "print(\"0. ?\")\n",
        "print(\"1. ?\")\n",
        "print(\"2. ?\")\n",
        "print(\"3. ?\")\n",
        "print(\"4. ?\")\n",
        "print(\"5. ?\")\n",
        "print(\"6. ?\")\n",
        "print(\"7. ?\")\n",
        "print(\"8. ?\")\n",
        "print(\"9. ?\")\n",
        "\n",
        "menu_choice = input('Enter an option (from one of the integers shown above): ')\n",
        "\n",
        "def menu(option):\n",
        "  try:\n",
        "    if int(option) >= 0 and int(option) <= 9:\n",
        "      if (int(option) == 0):\n",
        "        return \"0\"\n",
        "      elif (int(option) == 1):\n",
        "        return \"One\"\n",
        "      elif (int(option) == 2):\n",
        "        return \"Zwei\"\n",
        "      elif (int(option) == 3):\n",
        "        return \"Tre\"\n",
        "      elif (int(option) == 4):\n",
        "        return \"Quatre\"\n",
        "      elif (int(option) == 5):\n",
        "        return \"Bost\"\n",
        "      elif (int(option) == 6):\n",
        "        return \"Éxi\"\n",
        "      elif (int(option) == 7):\n",
        "        return \"Sedam\"\n",
        "      elif (int(option) == 8):\n",
        "        return \"Osiem\"\n",
        "      elif (int(option) == 9):\n",
        "        return \"Naoi\"\n",
        "    else:\n",
        "      print(\"Not in the options\")\n",
        "  except ValueError:\n",
        "    print(\"F\")\n",
        "\n",
        "print(menu_choice, \". \", menu(menu_choice), \"!\")\n",
        "\n",
        "# This step does not have test"
      ],
      "metadata": {
        "id": "bEy0V41ASSjX",
        "colab": {
          "base_uri": "https://localhost:8080/"
        },
        "outputId": "e5b6a134-a658-4d86-d0a1-c16ec51f51df"
      },
      "execution_count": 22,
      "outputs": [
        {
          "output_type": "stream",
          "name": "stdout",
          "text": [
            "0. ?\n",
            "1. ?\n",
            "2. ?\n",
            "3. ?\n",
            "4. ?\n",
            "5. ?\n",
            "6. ?\n",
            "7. ?\n",
            "8. ?\n",
            "9. ?\n",
            "Enter an option (from one of the integers shown above): 6\n",
            "6 .  Éxi !\n"
          ]
        }
      ]
    },
    {
      "cell_type": "markdown",
      "source": [
        "# Step 30 - Certification Project 1"
      ],
      "metadata": {
        "id": "HHSMmc2yUa3N"
      }
    },
    {
      "cell_type": "markdown",
      "source": [
        "Now put it all together to build a multi-function calculator. Use the menu and the functions you created in the previous steps. Define one more function of your own. Create the menu so that the user input will run a function."
      ],
      "metadata": {
        "id": "Om-8B7mRTShM"
      }
    },
    {
      "cell_type": "code",
      "source": [
        "# Write your code here\n",
        "\n",
        "import math\n",
        "import sympy\n",
        "from sympy import symbols\n",
        "from sympy.solvers import solve\n",
        "\n",
        "def menu():\n",
        "  while True:\n",
        "    print(\"0. Exit menu\")\n",
        "    print(\"1. Add 2 numbers\")\n",
        "    print(\"2. Substract 2 numbers\")\n",
        "    print(\"3. Multiply 2 numbers\")\n",
        "    print(\"4. Divide 2 numbers\")\n",
        "    print(\"5. Detect prime numbers\")\n",
        "    print(\"6. Generate prime factors of an integer\")\n",
        "    print(\"7. Simplify square roots\")\n",
        "    print(\"8. Solve for a variable\")\n",
        "    print(\"9. Factorial\")\n",
        "\n",
        "    choice = input(\"Enter your choice: \")\n",
        "\n",
        "    if choice == \"1\":\n",
        "      def add(a, b):\n",
        "        print(\"The sum is: \", a+b)\n",
        "\n",
        "      add_first = float(input(\"Enter a number: \\n\"))\n",
        "      add_second= float(input(\"Enter another number to add: \\n\"))\n",
        "\n",
        "      add(add_first, add_second)\n",
        "    elif choice == \"2\":\n",
        "      def substract(a, b):\n",
        "        print(\"The substract is: \", a-b)\n",
        "\n",
        "      substract_first = float(input(\"Enter a number: \\n\"))\n",
        "      substract_second= float(input(\"Enter another number to substract: \\n\"))\n",
        "\n",
        "      substract(substract_first, substract_second)\n",
        "    elif choice == \"3\":\n",
        "      def multiply(a, b):\n",
        "        print(\"The multiplication is: \", a*b)\n",
        "\n",
        "      multiply_first = float(input(\"Enter a number: \\n\"))\n",
        "      multiply_second= float(input(\"Enter another number to multiply: \\n\"))\n",
        "      \n",
        "      multiply(multiply_first, multiply_second)\n",
        "    elif choice == \"4\":\n",
        "      def divide(a, b):\n",
        "        print(\"The division is: \", a/b)\n",
        "      \n",
        "      divide_first = float(input(\"Enter a number to divide: \\n\"))\n",
        "      divide_second= float(input(\"Enter another number, but not zero: \\n\"))\n",
        "      \n",
        "      divide(divide_first, divide_second)\n",
        "    elif choice == \"5\":\n",
        "      def detect_prime_number(number):\n",
        "        prime_or_comp = \"prime\"\n",
        "        for test_number in range(2,number):\n",
        "          # Change the if statement to test one factor here:\n",
        "          if number % test_number == 0:\n",
        "            prime_or_comp = \"composite\" \n",
        "        print(prime_or_comp)\n",
        "      \n",
        "      detect_number = int(input(\"Enter a positive integer to check if it is prime: \"))\n",
        "      \n",
        "      detect_prime_number(detect_number)\n",
        "    elif choice == \"6\":\n",
        "      def generate_prime_factors(number):\n",
        "        for test_factor in range(1, number+1):\n",
        "          if number % test_factor == 0:\n",
        "            print(test_factor)\n",
        "      factor_number = int(input('Enter an integer to factor: '))\n",
        "      \n",
        "      generate_prime_factors(factor_number)\n",
        "    elif choice == \"7\":\n",
        "      def simplify_square_root(number):\n",
        "        upper_limit = math.floor(math.sqrt(number)) + 1\n",
        "        max_factor = 1\n",
        "        other_factor = 1\n",
        "        square_root = 1\n",
        "        for maybe_factor in range(1, upper_limit):\n",
        "          if number % (maybe_factor**2) == 0:\n",
        "            max_factor = maybe_factor**2\n",
        "        other_factor = number / max_factor\n",
        "        \n",
        "        square_root = int(math.sqrt(max_factor))\n",
        "        other_factor = int(other_factor)\n",
        "        output = square_root*sympy.sqrt(other_factor)\n",
        "        print(output)\n",
        "        \n",
        "        simplify_number = int(input('Without the radical, enter a square root to factor: '))\n",
        "        \n",
        "        simplify_square_root(simplify_number)\n",
        "    elif choice == \"8\":\n",
        "      def solve_x_equation(equation):\n",
        "        x = symbols('x')\n",
        "        print(\"Number of solutions: \", len(solve(equation,x)))\n",
        "        print(\"x1: \", solve(equation,x)[0])\n",
        "      \n",
        "      solve_expression = input('Enter an equation to solve for x: 0 = ')\n",
        "      \n",
        "      solve_x_equation(solve_expression)\n",
        "    elif choice == \"9\":\n",
        "      def factorial(number):\n",
        "        if (number == 0 or number == 1):\n",
        "          return 1\n",
        "        else:\n",
        "          return number * factorial(number - 1)\n",
        "\n",
        "      factorial_number = int(input(\"Enter a positive integer: \\n\"))\n",
        "\n",
        "      print(\"The factorial is: \", factorial(factorial_number))\n",
        "    elif choice == \"0\":\n",
        "      print(\"Exiting...\")\n",
        "      break\n",
        "    else:\n",
        "      print(\"Invalid choice. Please enter a valid option.\")\n",
        "\n",
        "menu()\n",
        "\n",
        "# This step does not have test"
      ],
      "metadata": {
        "id": "vJruVEMwUWFX",
        "colab": {
          "base_uri": "https://localhost:8080/"
        },
        "outputId": "46e6cfa8-4544-4611-f781-0782eea1e761"
      },
      "execution_count": 25,
      "outputs": [
        {
          "output_type": "stream",
          "name": "stdout",
          "text": [
            "0. Exit menu\n",
            "1. Add 2 numbers\n",
            "2. Substract 2 numbers\n",
            "3. Multiply 2 numbers\n",
            "4. Divide 2 numbers\n",
            "5. Detect prime numbers\n",
            "6. Generate prime factors of an integer\n",
            "7. Simplify square roots\n",
            "8. Solve for a variable\n",
            "9. Factorial\n",
            "Enter your choice: 9\n",
            "Enter a positive integer: \n",
            "12\n",
            "The factorial is:  479001600\n",
            "0. Exit menu\n",
            "1. Add 2 numbers\n",
            "2. Substract 2 numbers\n",
            "3. Multiply 2 numbers\n",
            "4. Divide 2 numbers\n",
            "5. Detect prime numbers\n",
            "6. Generate prime factors of an integer\n",
            "7. Simplify square roots\n",
            "8. Solve for a variable\n",
            "9. Factorial\n",
            "Enter your choice: 9\n",
            "Enter a positive integer: \n",
            "3\n",
            "The factorial is:  6\n",
            "0. Exit menu\n",
            "1. Add 2 numbers\n",
            "2. Substract 2 numbers\n",
            "3. Multiply 2 numbers\n",
            "4. Divide 2 numbers\n",
            "5. Detect prime numbers\n",
            "6. Generate prime factors of an integer\n",
            "7. Simplify square roots\n",
            "8. Solve for a variable\n",
            "9. Factorial\n",
            "Enter your choice: 0\n",
            "Exiting...\n"
          ]
        }
      ]
    }
  ]
}